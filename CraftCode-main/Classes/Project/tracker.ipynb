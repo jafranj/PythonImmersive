{
 "cells": [
  {
   "cell_type": "code",
   "execution_count": 1,
   "metadata": {},
   "outputs": [],
   "source": [
    "import requests"
   ]
  },
  {
   "cell_type": "code",
   "execution_count": 5,
   "metadata": {},
   "outputs": [
    {
     "name": "stdout",
     "output_type": "stream",
     "text": [
      "{'BTC': {'coin': 'BTC', 'price': 41590.63, 'change_day': -5.4919072848524975, 'change_hour': -2.080573824101797}, 'ETH': {'coin': 'ETH', 'price': 2746.55, 'change_day': -7.428192009275546, 'change_hour': -3.0758263901387175}, 'XRP': {'coin': 'XRP', 'price': 0.7313, 'change_day': -4.7910428329644645, 'change_hour': -2.7526595744680917}, 'LTC': {'coin': 'LTC', 'price': 107.8, 'change_day': -2.996490596598577, 'change_hour': -3.2576505429417653}, 'BCH': {'coin': 'BCH', 'price': 307.23, 'change_day': -4.197199787957211, 'change_hour': -2.562557483111853}, 'ADA': {'coin': 'ADA', 'price': 0.8749, 'change_day': -6.935432400808428, 'change_hour': -3.036684029701871}, 'DOT': {'coin': 'DOT', 'price': 17.43, 'change_day': -6.441223832528177, 'change_hour': -3.274139844617091}, 'LINK': {'coin': 'LINK', 'price': 14.42, 'change_day': -5.689993459777628, 'change_hour': -3.2214765100671174}, 'BNB': {'coin': 'BNB', 'price': 393.55, 'change_day': -4.103413825872944, 'change_hour': -2.2915735637320527}, 'XLM': {'coin': 'XLM', 'price': 0.1821, 'change_day': -5.745341614906831, 'change_hour': -3.1382978723404196}}\n"
     ]
    }
   ],
   "source": [
    "def get_prices():\n",
    "    coins = [\"BTC\", \"ETH\", \"XRP\", \"LTC\", \"BCH\", \"ADA\", \"DOT\", \"LINK\", \"BNB\", \"XLM\"]\n",
    "\n",
    "    crypto_data = requests.get(\"https://min-api.cryptocompare.com/data/pricemultifull?fsyms={}&tsyms=USD\".format(\",\".join(coins))).json()[\"RAW\"]\n",
    "\n",
    "    data = {}\n",
    "    for i in crypto_data:\n",
    "        data[i] = {\n",
    "            \"coin\": i,\n",
    "            \"price\": crypto_data[i][\"USD\"][\"PRICE\"],\n",
    "            \"change_day\": crypto_data[i][\"USD\"][\"CHANGEPCT24HOUR\"],\n",
    "            \"change_hour\": crypto_data[i][\"USD\"][\"CHANGEPCTHOUR\"]\n",
    "        }\n",
    "        \n",
    "    return data\n",
    "\n",
    "\n",
    "if __name__ == \"__main__\":\n",
    "    print(get_prices())"
   ]
  },
  {
   "cell_type": "code",
   "execution_count": 3,
   "metadata": {},
   "outputs": [
    {
     "name": "stdout",
     "output_type": "stream",
     "text": [
      "Collecting telegram\n",
      "  Downloading telegram-0.0.1.tar.gz (879 bytes)\n",
      "Building wheels for collected packages: telegram\n",
      "  Building wheel for telegram (setup.py): started\n",
      "  Building wheel for telegram (setup.py): finished with status 'done'\n",
      "  Created wheel for telegram: filename=telegram-0.0.1-py3-none-any.whl size=1307 sha256=51be7414ff67dba982ff8b2c19c43c137b0667cc86cac74dde78fcfd27914918\n",
      "  Stored in directory: c:\\users\\minha\\appdata\\local\\pip\\cache\\wheels\\11\\7a\\5d\\62391dcb6b9a45247192c3a711bf03ed513c14218a8b275a63\n",
      "Successfully built telegram\n",
      "Installing collected packages: telegram\n",
      "Successfully installed telegram-0.0.1\n",
      "Note: you may need to restart the kernel to use updated packages.\n"
     ]
    }
   ],
   "source": [
    "pip install telegram"
   ]
  },
  {
   "cell_type": "code",
   "execution_count": 4,
   "metadata": {},
   "outputs": [
    {
     "name": "stdout",
     "output_type": "stream",
     "text": [
      "Collecting python_telegram_bot\n",
      "  Downloading python_telegram_bot-13.11-py3-none-any.whl (497 kB)\n",
      "Requirement already satisfied: certifi in c:\\users\\minha\\anaconda3\\lib\\site-packages (from python_telegram_bot) (2021.10.8)\n",
      "Requirement already satisfied: tornado>=6.1 in c:\\users\\minha\\anaconda3\\lib\\site-packages (from python_telegram_bot) (6.1)\n",
      "Collecting APScheduler==3.6.3\n",
      "  Downloading APScheduler-3.6.3-py2.py3-none-any.whl (58 kB)\n",
      "Collecting cachetools==4.2.2\n",
      "  Downloading cachetools-4.2.2-py3-none-any.whl (11 kB)\n",
      "Requirement already satisfied: pytz>=2018.6 in c:\\users\\minha\\anaconda3\\lib\\site-packages (from python_telegram_bot) (2021.3)\n",
      "Requirement already satisfied: setuptools>=0.7 in c:\\users\\minha\\anaconda3\\lib\\site-packages (from APScheduler==3.6.3->python_telegram_bot) (58.0.4)\n",
      "Requirement already satisfied: six>=1.4.0 in c:\\users\\minha\\anaconda3\\lib\\site-packages (from APScheduler==3.6.3->python_telegram_bot) (1.16.0)\n",
      "Collecting tzlocal>=1.2\n",
      "  Downloading tzlocal-4.1-py3-none-any.whl (19 kB)\n",
      "Collecting pytz-deprecation-shim\n",
      "  Downloading pytz_deprecation_shim-0.1.0.post0-py2.py3-none-any.whl (15 kB)\n",
      "Collecting tzdata\n",
      "  Downloading tzdata-2021.5-py2.py3-none-any.whl (339 kB)\n",
      "Installing collected packages: tzdata, pytz-deprecation-shim, tzlocal, cachetools, APScheduler, python-telegram-bot\n",
      "Successfully installed APScheduler-3.6.3 cachetools-4.2.2 python-telegram-bot-13.11 pytz-deprecation-shim-0.1.0.post0 tzdata-2021.5 tzlocal-4.1\n",
      "Note: you may need to restart the kernel to use updated packages.\n"
     ]
    }
   ],
   "source": [
    "pip install python_telegram_bot"
   ]
  }
 ],
 "metadata": {
  "interpreter": {
   "hash": "40d3a090f54c6569ab1632332b64b2c03c39dcf918b08424e98f38b5ae0af88f"
  },
  "kernelspec": {
   "display_name": "Python 3.8.8 64-bit ('base': conda)",
   "name": "python3"
  },
  "language_info": {
   "codemirror_mode": {
    "name": "ipython",
    "version": 3
   },
   "file_extension": ".py",
   "mimetype": "text/x-python",
   "name": "python",
   "nbconvert_exporter": "python",
   "pygments_lexer": "ipython3",
   "version": "3.9.7"
  },
  "orig_nbformat": 4
 },
 "nbformat": 4,
 "nbformat_minor": 2
}
