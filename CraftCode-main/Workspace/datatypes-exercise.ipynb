{
 "cells": [
  {
   "cell_type": "markdown",
   "metadata": {},
   "source": [
    "# Data Types Exercise \n",
    "\n",
    "\n",
    "Please complete the exercises below. The format goes as follows:\n",
    "\n",
    "- Exercise \n",
    "- Code box for you to program your answer. \n",
    "\n",
    "Please put this exercise file (datatypes.ipynb) in your workspace folder that you created for all your work in class.\n",
    "If you did not create your workspace folder, please navigate to the explorer to the left and create a folder named \"workspace\" in your project directory.\n",
    "\n",
    "Please reach out on whatsapp if you have any questions."
   ]
  },
  {
   "cell_type": "markdown",
   "metadata": {},
   "source": [
    "---"
   ]
  },
  {
   "cell_type": "markdown",
   "metadata": {},
   "source": [
    "## Exercise 1\n",
    "\n",
    "As a python developer, I want to set up variables for a chatbot program. \n",
    "\n",
    "    1. Create two variables named: \n",
    "\n",
    "        - customer \n",
    "        - rep\n",
    "\n",
    "    2. Give the customer and the rep a name. Output the name.\n",
    "\n",
    "<br>\n",
    "<b>\n",
    "Example Output: </b>\n",
    "\n",
    "    > Customer has entered the chat.\n",
    "    > Rep has entered the chat."
   ]
  },
  {
   "cell_type": "code",
   "execution_count": 3,
   "metadata": {},
   "outputs": [
    {
     "name": "stdout",
     "output_type": "stream",
     "text": [
      "John has entered the chat\n",
      "Dan has entered the chat\n"
     ]
    }
   ],
   "source": [
    "# WRITE CODE FOR EXERCISE ONE BELOW \n",
    "customer = \"John\"\n",
    "rep = \"Dan\"\n",
    "print(customer +' has entered the chat.')\n",
    "print(rep +' has entered the chat.')\n",
    "\n",
    "\n",
    "\n",
    "\n",
    "\n",
    "\n",
    "\n",
    "\n",
    "\n",
    "\n",
    "\n",
    "\n"
   ]
  },
  {
   "cell_type": "markdown",
   "metadata": {},
   "source": [
    "---"
   ]
  },
  {
   "cell_type": "markdown",
   "metadata": {},
   "source": [
    "## Exercise 2\n",
    "\n",
    "As a python developer, I want to create a program that keeps score of a player in a game of soccer. \n",
    "\n",
    "In this exercise, let's assume a player just scored.\n",
    "\n",
    "    1. Create two variables:\n",
    "        - playername\n",
    "        - score \n",
    "\n",
    "    2. Add one point to the point variable. \n",
    "        - Hint:\n",
    "            set score = 0\n",
    "            score = score + 1   "
   ]
  },
  {
   "cell_type": "code",
   "execution_count": 68,
   "metadata": {},
   "outputs": [
    {
     "name": "stdout",
     "output_type": "stream",
     "text": [
      "1\n"
     ]
    }
   ],
   "source": [
    "# WRITE CODE FOR EXERCISE TWO BELOW \n",
    "playerName = 'Beckham'\n",
    "score = 0\n",
    "score += 1\n",
    "print(score)\n",
    "\n",
    "\n",
    "\n",
    "\n",
    "\n",
    "\n"
   ]
  },
  {
   "cell_type": "markdown",
   "metadata": {},
   "source": [
    " _____________"
   ]
  },
  {
   "cell_type": "markdown",
   "metadata": {},
   "source": [
    "## Exercise 3\n",
    "\n",
    "As a python developer, I'm interested in making a list of all bitcoin websites I have down below. \n",
    "\n",
    "I want only the names of each website (not including https:// or .com)\n",
    "\n",
    "For example: \n",
    "\n",
    "    input >> https://www.coinbase.com/\n",
    "    output >> Coinbase \n",
    "\n",
    "Use string slicing or any other python modules to perform this.\n",
    "\n",
    "<b>Hint: Google String splicing or .split() method</b>"
   ]
  },
  {
   "cell_type": "code",
   "execution_count": 93,
   "metadata": {},
   "outputs": [
    {
     "name": "stdout",
     "output_type": "stream",
     "text": [
      "coinbase\n",
      "bitcoin\n",
      "dogecoin\n"
     ]
    }
   ],
   "source": [
    "# Use These URLS \n",
    "coinbaseurl = \"https://www.coinbase.com/\"\n",
    "bitcoinurl = \"https://bitcoin.org/en/\"\n",
    "dogeurl = \"https://dogecoin.com/\"\n",
    "\n",
    "\n",
    "\n",
    "# WRITE CODE FOR EXERCISE THREE BELOW\n",
    "import re\n",
    "useSplit = \"[/.]\"\n",
    "coinbaseurl = re.split(useSplit,coinbaseurl)\n",
    "coinbaseurl = str(coinbaseurl[3])\n",
    "bitcoinurl = re.split(useSplit,bitcoinurl)\n",
    "bitcoinurl = str(bitcoinurl[2])\n",
    "dogeurl = re.split(useSplit,dogeurl)\n",
    "dogeurl = str(dogeurl[2])\n",
    "\n",
    "\n",
    "\n",
    "\n",
    "\n",
    "# WRITE CODE FOR EXERCISE THREE ABOVE \n",
    "\n",
    "print(coinbaseurl) # coinbase\n",
    "print(bitcoinurl) # bitcoin\n",
    "print(dogeurl) # dogecoin"
   ]
  }
 ],
 "metadata": {
  "interpreter": {
   "hash": "5dcf354cf3c47bf51a2ec6255f0e70370a65a43eac58f573f0ab9a1183e58466"
  },
  "kernelspec": {
   "display_name": "Python 3.9.7 ('base')",
   "language": "python",
   "name": "python3"
  },
  "language_info": {
   "codemirror_mode": {
    "name": "ipython",
    "version": 3
   },
   "file_extension": ".py",
   "mimetype": "text/x-python",
   "name": "python",
   "nbconvert_exporter": "python",
   "pygments_lexer": "ipython3",
   "version": "3.9.7"
  },
  "orig_nbformat": 4
 },
 "nbformat": 4,
 "nbformat_minor": 2
}
