{
 "cells": [
  {
   "cell_type": "markdown",
   "metadata": {},
   "source": [
    "### String Exercise"
   ]
  },
  {
   "cell_type": "code",
   "execution_count": 15,
   "metadata": {},
   "outputs": [
    {
     "name": "stdout",
     "output_type": "stream",
     "text": [
      "jafran\n"
     ]
    },
    {
     "data": {
      "text/plain": [
       "'jfa'"
      ]
     },
     "execution_count": 15,
     "metadata": {},
     "output_type": "execute_result"
    }
   ],
   "source": [
    "# this is a comment. make it with hash at the beginning\n",
    "x = \"jafran\"\n",
    "print(x)\n",
    "x[0:5:2]"
   ]
  },
  {
   "cell_type": "code",
   "execution_count": 16,
   "metadata": {},
   "outputs": [
    {
     "name": "stdout",
     "output_type": "stream",
     "text": [
      "On\n",
      "ee\n"
     ]
    }
   ],
   "source": [
    "# Exercise. Write a string at least with 5 characters. slice the string to get the first two characters.  Slice the string to get the last two characters\n",
    "\n",
    "stringExercise = \"One plus two is three\"\n",
    "print(stringExercise [0:2])\n",
    "print(stringExercise [-2:])"
   ]
  }
 ],
 "metadata": {
  "interpreter": {
   "hash": "f226b7eb349847b50938ca4b608376f934c11bef933dded744f7ab6f74e9942b"
  },
  "kernelspec": {
   "display_name": "Python 3.9.7 ('base')",
   "language": "python",
   "name": "python3"
  },
  "language_info": {
   "codemirror_mode": {
    "name": "ipython",
    "version": 3
   },
   "file_extension": ".py",
   "mimetype": "text/x-python",
   "name": "python",
   "nbconvert_exporter": "python",
   "pygments_lexer": "ipython3",
   "version": "3.9.7"
  },
  "orig_nbformat": 4
 },
 "nbformat": 4,
 "nbformat_minor": 2
}
